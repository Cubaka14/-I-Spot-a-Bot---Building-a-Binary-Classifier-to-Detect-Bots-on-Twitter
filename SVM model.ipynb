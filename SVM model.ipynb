{
 "cells": [
  {
   "cell_type": "code",
   "execution_count": 1,
   "metadata": {},
   "outputs": [],
   "source": [
    "import numpy as np\n",
    "import pandas as pd\n",
    "from matplotlib import pyplot as plt\n",
    "from matplotlib.colors import ListedColormap\n",
    "import seaborn as sns\n",
    "%matplotlib inline\n",
    "from sklearn import model_selection\n",
    "from sklearn import metrics\n",
    "from sklearn import preprocessing\n",
    "from sklearn import linear_model as lm"
   ]
  },
  {
   "cell_type": "code",
   "execution_count": 56,
   "metadata": {},
   "outputs": [],
   "source": [
    "data = pd.read_csv(r\"C:\\Users\\Nemanja.Antic\\Desktop\\iSpotABot\\cresciFullPreProcessed.csv\")"
   ]
  },
  {
   "cell_type": "code",
   "execution_count": 57,
   "metadata": {},
   "outputs": [],
   "source": [
    "data.replace([np.inf, -np.inf], np.nan)\n",
    "data = data.drop(data.columns[[0, 1]], axis=1)\n",
    "data = data.dropna(axis=0, how='any')\n",
    "data = data.drop('id', axis=1)\n",
    "data = data.round(4)\n",
    "data = data.drop(data[data.friends_to_followers_ratio > np.finfo(np.float64).max].index)"
   ]
  },
  {
   "cell_type": "code",
   "execution_count": 58,
   "metadata": {},
   "outputs": [],
   "source": [
    "y = data['is_bot'].values\n",
    "data = data.drop('is_bot',axis=1)\n",
    "x = data.values"
   ]
  },
  {
   "cell_type": "code",
   "execution_count": 59,
   "metadata": {},
   "outputs": [],
   "source": [
    "x_train_validation, x_test, y_train_validation, y_test = model_selection.train_test_split(x, y, train_size = 0.67, test_size=0.33, stratify = y, random_state = 7)"
   ]
  },
  {
   "cell_type": "code",
   "execution_count": 60,
   "metadata": {},
   "outputs": [],
   "source": [
    "x_train, x_validation, y_train, y_validation = model_selection.train_test_split(x_train_validation, y_train_validation, train_size = 0.8, test_size = 0.2, stratify = y_train_validation, random_state = 7)"
   ]
  },
  {
   "cell_type": "code",
   "execution_count": 61,
   "metadata": {},
   "outputs": [],
   "source": [
    "scaler_tv = preprocessing.StandardScaler()\n",
    "scaler_tv.fit(x_train)\n",
    "x_train = scaler_tv.transform(x_train)\n",
    "x_validation = scaler_tv.transform(x_validation)"
   ]
  },
  {
   "cell_type": "code",
   "execution_count": 62,
   "metadata": {},
   "outputs": [],
   "source": [
    "scaler_tt = preprocessing.StandardScaler()\n",
    "scaler_tt.fit(x_train_validation)\n",
    "x_train_validation = scaler_tt.transform(x_train_validation)\n",
    "x_test = scaler_tt.transform(x_test)"
   ]
  },
  {
   "cell_type": "code",
   "execution_count": null,
   "metadata": {},
   "outputs": [],
   "source": []
  },
  {
   "cell_type": "code",
   "execution_count": 63,
   "metadata": {},
   "outputs": [
    {
     "data": {
      "text/plain": [
       "LogisticRegression(C=3.1, class_weight='balanced', dual=False,\n",
       "          fit_intercept=True, intercept_scaling=1, max_iter=100,\n",
       "          multi_class='ovr', n_jobs=1, penalty='l2', random_state=None,\n",
       "          solver='liblinear', tol=0.0001, verbose=0, warm_start=False)"
      ]
     },
     "execution_count": 63,
     "metadata": {},
     "output_type": "execute_result"
    }
   ],
   "source": [
    "params = {'C': [0.1, 1.1, 2.1 ,3.1, 4.1]}\n",
    "grid = model_selection.GridSearchCV(lm.LogisticRegression(penalty='l2', class_weight='balanced') , param_grid=params , scoring='accuracy')\n",
    "grid.fit(x_train, y_train)\n",
    "best_kernel_model = grid.best_estimator_\n",
    "best_kernel_model.fit(x_train, y_train)"
   ]
  },
  {
   "cell_type": "code",
   "execution_count": 64,
   "metadata": {},
   "outputs": [],
   "source": [
    "y_train_predicted = best_kernel_model.predict(x_train_validation)\n",
    "y_test_predicted = best_kernel_model.predict(x_test)\n",
    "\n",
    "best_kernel_model_train_score = metrics.accuracy_score(y_train_validation, y_train_predicted)\n",
    "best_kernel_model_test_score = metrics.accuracy_score(y_test, y_test_predicted)"
   ]
  },
  {
   "cell_type": "code",
   "execution_count": 65,
   "metadata": {},
   "outputs": [],
   "source": [
    "score = model_selection.cross_val_score(best_kernel_model,x,y, scoring='accuracy')"
   ]
  },
  {
   "cell_type": "code",
   "execution_count": 66,
   "metadata": {},
   "outputs": [
    {
     "data": {
      "text/plain": [
       "0.9676814011676397"
      ]
     },
     "execution_count": 66,
     "metadata": {},
     "output_type": "execute_result"
    }
   ],
   "source": [
    "best_kernel_model_test_score"
   ]
  },
  {
   "cell_type": "code",
   "execution_count": 67,
   "metadata": {},
   "outputs": [
    {
     "data": {
      "text/plain": [
       "0.967238369107528"
      ]
     },
     "execution_count": 67,
     "metadata": {},
     "output_type": "execute_result"
    }
   ],
   "source": [
    "best_kernel_model_train_score"
   ]
  },
  {
   "cell_type": "code",
   "execution_count": 68,
   "metadata": {},
   "outputs": [
    {
     "data": {
      "text/plain": [
       "array([-2.52462025,  9.66225641, -0.03947261, -0.23473965,  0.75264012,\n",
       "       12.0463684 , -1.35484174, -1.8776416 , -1.86513569, -0.22705481])"
      ]
     },
     "execution_count": 68,
     "metadata": {},
     "output_type": "execute_result"
    }
   ],
   "source": [
    "best_kernel_model.coef_.ravel()"
   ]
  },
  {
   "cell_type": "code",
   "execution_count": 69,
   "metadata": {},
   "outputs": [
    {
     "data": {
      "text/plain": [
       "10"
      ]
     },
     "execution_count": 69,
     "metadata": {},
     "output_type": "execute_result"
    }
   ],
   "source": [
    "len(data.columns)"
   ]
  },
  {
   "cell_type": "code",
   "execution_count": 70,
   "metadata": {},
   "outputs": [
    {
     "data": {
      "text/plain": [
       "0.932633635545284"
      ]
     },
     "execution_count": 70,
     "metadata": {},
     "output_type": "execute_result"
    }
   ],
   "source": [
    "score.mean()"
   ]
  },
  {
   "cell_type": "code",
   "execution_count": 71,
   "metadata": {},
   "outputs": [
    {
     "data": {
      "text/plain": [
       "array([0.96800826, 0.98203964, 0.84785301])"
      ]
     },
     "execution_count": 71,
     "metadata": {},
     "output_type": "execute_result"
    }
   ],
   "source": [
    "score"
   ]
  },
  {
   "cell_type": "code",
   "execution_count": 72,
   "metadata": {
    "scrolled": true
   },
   "outputs": [
    {
     "data": {
      "text/plain": [
       "([<matplotlib.axis.XTick at 0x200a735fc18>,\n",
       "  <matplotlib.axis.XTick at 0x200a735f550>,\n",
       "  <matplotlib.axis.XTick at 0x200a735f2e8>,\n",
       "  <matplotlib.axis.XTick at 0x200a6d66cc0>,\n",
       "  <matplotlib.axis.XTick at 0x200a6d71208>,\n",
       "  <matplotlib.axis.XTick at 0x200a6d71588>,\n",
       "  <matplotlib.axis.XTick at 0x200a6d71a90>,\n",
       "  <matplotlib.axis.XTick at 0x200a6d71e80>,\n",
       "  <matplotlib.axis.XTick at 0x200a6d784e0>,\n",
       "  <matplotlib.axis.XTick at 0x200a6d789e8>,\n",
       "  <matplotlib.axis.XTick at 0x200a6d78ef0>],\n",
       " <a list of 10 Text xticklabel objects>)"
      ]
     },
     "execution_count": 72,
     "metadata": {},
     "output_type": "execute_result"
    },
    {
     "data": {
      "image/png": "[encoded data removed]",
      "text/plain": [
       "<Figure size 1080x360 with 1 Axes>"
      ]
     },
     "metadata": {},
     "output_type": "display_data"
    }
   ],
   "source": [
    "plt.figure(figsize=(15, 5))\n",
    "plt.title(\"Coef. histogram\")\n",
    "plt.bar(np.arange(10), best_kernel_model.coef_.ravel(), color='blue')\n",
    "feature_names = np.array(data.columns)\n",
    "plt.xticks(np.arange(0, 11), feature_names, rotation=60, ha=\"right\")"
   ]
  },
  {
   "cell_type": "code",
   "execution_count": 75,
   "metadata": {},
   "outputs": [],
   "source": [
    "import pickle\n",
    "filename = 'logistic_regression_model.sav'\n",
    "pickle.dump(best_kernel_model, open(filename, 'wb'))"
   ]
  }
 ],
 "metadata": {
  "kernelspec": {
   "display_name": "Python 3",
   "language": "python",
   "name": "python3"
  },
  "language_info": {
   "codemirror_mode": {
    "name": "ipython",
    "version": 3
   },
   "file_extension": ".py",
   "mimetype": "text/x-python",
   "name": "python",
   "nbconvert_exporter": "python",
   "pygments_lexer": "ipython3",
   "version": "3.6.5"
  }
 },
 "nbformat": 4,
 "nbformat_minor": 2
}
