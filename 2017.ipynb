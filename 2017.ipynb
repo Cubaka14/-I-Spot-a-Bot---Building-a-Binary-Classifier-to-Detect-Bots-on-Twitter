{
 "cells": [
  {
   "cell_type": "code",
   "execution_count": 1,
   "metadata": {},
   "outputs": [],
   "source": [
    "import numpy as np\n",
    "import pandas as pd"
   ]
  },
  {
   "cell_type": "code",
   "execution_count": 2,
   "metadata": {},
   "outputs": [],
   "source": [
    "dfs = []\n",
    "dfs.append(pd.read_csv(r\"C:\\Users\\Nemanja.Antic\\Downloads\\cresci2017\\cresci-2017.csv\\datasets_full.csv\\fake_followers.csv\\fake_followers.csv\\users.csv\"))\n",
    "dfs.append(pd.read_csv(r\"C:\\Users\\Nemanja.Antic\\Downloads\\cresci2017\\cresci-2017.csv\\datasets_full.csv\\social_spambots_1.csv\\social_spambots_1.csv\\users.csv\"))\n",
    "dfs.append(pd.read_csv(r\"C:\\Users\\Nemanja.Antic\\Downloads\\cresci2017\\cresci-2017.csv\\datasets_full.csv\\social_spambots_2.csv\\social_spambots_2.csv\\users.csv\"))\n",
    "dfs.append(pd.read_csv(r\"C:\\Users\\Nemanja.Antic\\Downloads\\cresci2017\\cresci-2017.csv\\datasets_full.csv\\social_spambots_3.csv\\social_spambots_3.csv\\users.csv\"))\n",
    "\n",
    "dfs.append(pd.read_csv(r\"C:\\Users\\Nemanja.Antic\\Downloads\\cresci2017\\cresci-2017.csv\\datasets_full.csv\\traditional_spambots_1.csv\\traditional_spambots_1.csv\\users.csv\"))\n",
    "dfs.append(pd.read_csv(r\"C:\\Users\\Nemanja.Antic\\Downloads\\cresci2017\\cresci-2017.csv\\datasets_full.csv\\traditional_spambots_2.csv\\traditional_spambots_2.csv\\users.csv\"))\n",
    "dfs.append(pd.read_csv(r\"C:\\Users\\Nemanja.Antic\\Downloads\\cresci2017\\cresci-2017.csv\\datasets_full.csv\\traditional_spambots_3.csv\\traditional_spambots_3.csv\\users.csv\"))\n",
    "dfs.append(pd.read_csv(r\"C:\\Users\\Nemanja.Antic\\Downloads\\cresci2017\\cresci-2017.csv\\datasets_full.csv\\traditional_spambots_4.csv\\traditional_spambots_4.csv\\users.csv\"))\n",
    "botsCsv = pd.concat(dfs, sort=True);\n",
    "botsCsv['is_bot'] = 1;\n"
   ]
  },
  {
   "cell_type": "code",
   "execution_count": 3,
   "metadata": {},
   "outputs": [],
   "source": [
    "dfs = []\n",
    "dfs.append(pd.read_csv(r'C:\\Users\\Nemanja.Antic\\Downloads\\cresci2017\\cresci-2017.csv\\datasets_full.csv\\genuine_accounts.csv\\genuine_accounts.csv\\users.csv'))\n",
    "\n",
    "humansCsv = pd.concat(dfs, sort=True);\n",
    "humansCsv['is_bot']=0"
   ]
  },
  {
   "cell_type": "code",
   "execution_count": 4,
   "metadata": {},
   "outputs": [],
   "source": [
    "resultUsers = pd.concat([botsCsv, humansCsv], sort=True)\n",
    "\n",
    "users = pd.DataFrame()\n",
    "users['id']=resultUsers['id']\n",
    "users['friends_count'] = resultUsers['friends_count']\n",
    "users['favorites_count'] = resultUsers['favourites_count']\n",
    "users['followers_count'] = resultUsers['followers_count']\n",
    "users['friends_to_followers_ratio'] = resultUsers['friends_count']/resultUsers['followers_count']\n",
    "users['is_bot'] = resultUsers['is_bot']"
   ]
  },
  {
   "cell_type": "code",
   "execution_count": 16,
   "metadata": {},
   "outputs": [],
   "source": [
    "del dfs\n",
    "# del botsCsv\n",
    "# del humansCsv"
   ]
  },
  {
   "cell_type": "code",
   "execution_count": 13,
   "metadata": {
    "scrolled": true
   },
   "outputs": [
    {
     "name": "stderr",
     "output_type": "stream",
     "text": [
      "C:\\ProgramData\\Anaconda3\\lib\\site-packages\\IPython\\core\\interactiveshell.py:2785: DtypeWarning: Columns (8,11) have mixed types. Specify dtype option on import or set low_memory=False.\n",
      "  interactivity=interactivity, compiler=compiler, result=result)\n",
      "C:\\ProgramData\\Anaconda3\\lib\\site-packages\\IPython\\core\\interactiveshell.py:2785: DtypeWarning: Columns (10) have mixed types. Specify dtype option on import or set low_memory=False.\n",
      "  interactivity=interactivity, compiler=compiler, result=result)\n",
      "C:\\ProgramData\\Anaconda3\\lib\\site-packages\\IPython\\core\\interactiveshell.py:2785: DtypeWarning: Columns (7,10) have mixed types. Specify dtype option on import or set low_memory=False.\n",
      "  interactivity=interactivity, compiler=compiler, result=result)\n",
      "C:\\ProgramData\\Anaconda3\\lib\\site-packages\\IPython\\core\\interactiveshell.py:2785: DtypeWarning: Columns (0) have mixed types. Specify dtype option on import or set low_memory=False.\n",
      "  interactivity=interactivity, compiler=compiler, result=result)\n"
     ]
    }
   ],
   "source": [
    "dfs2 = []\n",
    "dfs2.append(pd.read_csv(r\"C:\\Users\\Nemanja.Antic\\Downloads\\cresci2017\\cresci-2017.csv\\datasets_full.csv\\fake_followers.csv\\fake_followers.csv\\tweets.csv\"))\n",
    "dfs2.append(pd.read_csv(r\"C:\\Users\\Nemanja.Antic\\Downloads\\cresci2017\\cresci-2017.csv\\datasets_full.csv\\social_spambots_1.csv\\social_spambots_1.csv\\tweets.csv\"))\n",
    "dfs2.append(pd.read_csv(r\"C:\\Users\\Nemanja.Antic\\Downloads\\cresci2017\\cresci-2017.csv\\datasets_full.csv\\social_spambots_2.csv\\social_spambots_2.csv\\tweets.csv\"))\n",
    "dfs2.append(pd.read_csv(r\"C:\\Users\\Nemanja.Antic\\Downloads\\cresci2017\\cresci-2017.csv\\datasets_full.csv\\social_spambots_3.csv\\social_spambots_3.csv\\tweets.csv\"))\n",
    "dfs2.append(pd.read_csv(r\"C:\\Users\\Nemanja.Antic\\Downloads\\cresci2017\\cresci-2017.csv\\datasets_full.csv\\traditional_spambots_1.csv\\traditional_spambots_1.csv\\tweets.csv\"))\n",
    "dfs2.append(pd.read_csv(r\"C:\\Users\\Nemanja.Antic\\Downloads\\cresci2017\\cresci-2017.csv\\datasets_full.csv\\genuine_accounts.csv\\genuine_accounts.csv\\tweets.csv\"))\n",
    "\n",
    "botsTweets = pd.concat(dfs2, sort=True);"
   ]
  },
  {
   "cell_type": "code",
   "execution_count": 14,
   "metadata": {
    "scrolled": true
   },
   "outputs": [
    {
     "name": "stderr",
     "output_type": "stream",
     "text": [
      "C:\\ProgramData\\Anaconda3\\lib\\site-packages\\IPython\\core\\interactiveshell.py:2785: DtypeWarning: Columns (8,11) have mixed types. Specify dtype option on import or set low_memory=False.\n",
      "  interactivity=interactivity, compiler=compiler, result=result)\n"
     ]
    }
   ],
   "source": [
    "del dfs2\n",
    "dfs2 = []\n",
    "dfs2.append(pd.read_csv(r'C:\\Users\\Nemanja.Antic\\Downloads\\cresci2017\\cresci-2017.csv\\datasets_full.csv\\fake_followers.csv\\fake_followers.csv/tweets.csv'))\n",
    "humansTweets = pd.concat(dfs2, sort=True);"
   ]
  },
  {
   "cell_type": "code",
   "execution_count": 15,
   "metadata": {},
   "outputs": [],
   "source": [
    "resultTweets = pd.concat([botsTweets, humansTweets], sort=True)\n",
    "del botsTweets\n",
    "del humansTweets"
   ]
  },
  {
   "cell_type": "code",
   "execution_count": 17,
   "metadata": {},
   "outputs": [],
   "source": [
    "def get_mentions_per_tweet(userId,tweets):\n",
    "    result = {}\n",
    "    userTweets = tweets.query('user_id ==' + str(userId))\n",
    "    result['num_mentions'] = sum(userTweets['num_mentions'])/userTweets.shape[0] if userTweets.shape[0] > 0 else 0\n",
    "    result['num_hashtags'] = sum(userTweets['num_hashtags'])/userTweets.shape[0] if userTweets.shape[0] > 0 else 0\n",
    "    result['num_urls'] = sum(userTweets['num_urls'])/userTweets.shape[0] if userTweets.shape[0] > 0 else 0\n",
    "    result['retweet_count'] = sum(userTweets['retweet_count'])/userTweets.shape[0] if userTweets.shape[0] > 0 else 0\n",
    "    result['favorite_count'] = sum(userTweets['favorite_count'])/userTweets.shape[0] if userTweets.shape[0] > 0 else 0\n",
    "    return result;"
   ]
  },
  {
   "cell_type": "code",
   "execution_count": null,
   "metadata": {},
   "outputs": [],
   "source": [
    "\n",
    "for user in users['id']:\n",
    "    result = [];\n",
    "    result = get_mentions_per_tweet(user,resultTweets)\n",
    "    users['mentions_per_tweet'] = np.array(result['num_mentions'])\n",
    "    users['hashtags_per_tweet'] = np.array(result['num_hashtags'])\n",
    "    users['urls_per_tweet'] = np.array(result['num_urls'])\n",
    "    users['retweets_per_tweet'] = np.array(result['retweet_count'])\n",
    "    users['favorites_per_tweet'] = np.array(result['favorite_count'])\n"
   ]
  },
  {
   "cell_type": "code",
   "execution_count": null,
   "metadata": {},
   "outputs": [],
   "source": [
    "writer = pd.ExcelWriter('cresci2017Preprocessed.xlsx', engine='xlsxwriter')\n",
    "users.to_excel(writer, sheet_name='Sheet1')\n",
    "writer.save()"
   ]
  }
 ],
 "metadata": {
  "kernelspec": {
   "display_name": "Python 3",
   "language": "python",
   "name": "python3"
  },
  "language_info": {
   "codemirror_mode": {
    "name": "ipython",
    "version": 3
   },
   "file_extension": ".py",
   "mimetype": "text/x-python",
   "name": "python",
   "nbconvert_exporter": "python",
   "pygments_lexer": "ipython3",
   "version": "3.6.5"
  }
 },
 "nbformat": 4,
 "nbformat_minor": 2
}
