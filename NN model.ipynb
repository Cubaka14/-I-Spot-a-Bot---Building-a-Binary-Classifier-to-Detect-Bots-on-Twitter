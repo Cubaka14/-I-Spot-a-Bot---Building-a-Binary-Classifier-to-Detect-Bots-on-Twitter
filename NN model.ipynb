{
 "cells": [
  {
   "cell_type": "code",
   "execution_count": 1,
   "metadata": {},
   "outputs": [
    {
     "name": "stderr",
     "output_type": "stream",
     "text": [
      "C:\\ProgramData\\Anaconda3\\lib\\site-packages\\h5py\\__init__.py:36: FutureWarning: Conversion of the second argument of issubdtype from `float` to `np.floating` is deprecated. In future, it will be treated as `np.float64 == np.dtype(float).type`.\n",
      "  from ._conv import register_converters as _register_converters\n",
      "Using TensorFlow backend.\n"
     ]
    }
   ],
   "source": [
    "from keras.models import Sequential\n",
    "from keras.layers import Dense, Activation\n",
    "from keras import losses, optimizers\n",
    "from keras.layers import Dropout\n",
    "from keras import regularizers"
   ]
  },
  {
   "cell_type": "code",
   "execution_count": 2,
   "metadata": {},
   "outputs": [],
   "source": [
    "import numpy as np\n",
    "import pandas as pd\n",
    "from matplotlib import pyplot as plt"
   ]
  },
  {
   "cell_type": "code",
   "execution_count": 3,
   "metadata": {},
   "outputs": [],
   "source": [
    "from sklearn import model_selection\n",
    "from sklearn import metrics\n",
    "from sklearn import preprocessing"
   ]
  },
  {
   "cell_type": "code",
   "execution_count": 4,
   "metadata": {},
   "outputs": [],
   "source": [
    "np.random.seed(7)"
   ]
  },
  {
   "cell_type": "code",
   "execution_count": 5,
   "metadata": {},
   "outputs": [],
   "source": [
    "data = pd.read_csv(\"cresciFullPreProcessed.csv\")"
   ]
  },
  {
   "cell_type": "code",
   "execution_count": 6,
   "metadata": {},
   "outputs": [],
   "source": [
    "data.replace([np.inf, -np.inf], np.nan)\n",
    "data = data.drop(data.columns[[0, 1]], axis=1)\n",
    "data = data.dropna(axis=0, how='any')\n",
    "data = data.drop('id', axis=1)\n",
    "data = data.round(4)\n",
    "data = data.drop(data[data.friends_to_followers_ratio > np.finfo(np.float64).max].index)"
   ]
  },
  {
   "cell_type": "code",
   "execution_count": 7,
   "metadata": {
    "scrolled": false
   },
   "outputs": [
    {
     "data": {
      "text/plain": [
       "(14533, 11)"
      ]
     },
     "execution_count": 7,
     "metadata": {},
     "output_type": "execute_result"
    }
   ],
   "source": [
    "data.shape"
   ]
  },
  {
   "cell_type": "code",
   "execution_count": 8,
   "metadata": {},
   "outputs": [],
   "source": [
    "y = data['is_bot'].values\n",
    "data = data.drop('is_bot',axis=1)\n",
    "x = data.values"
   ]
  },
  {
   "cell_type": "code",
   "execution_count": 9,
   "metadata": {},
   "outputs": [
    {
     "name": "stdout",
     "output_type": "stream",
     "text": [
      "Bots: 11821\n",
      "Human: 2712\n"
     ]
    }
   ],
   "source": [
    "print(\"Bots: {bot}\\nHuman: {human}\".format(bot = len(y[y == 1]), human = len(y[y == 0])))"
   ]
  },
  {
   "cell_type": "code",
   "execution_count": 10,
   "metadata": {},
   "outputs": [],
   "source": [
    "x_train, x_test, y_train, y_test = model_selection.train_test_split(x, y, train_size = 0.67, test_size=0.33, stratify = y, random_state = 7)"
   ]
  },
  {
   "cell_type": "code",
   "execution_count": 11,
   "metadata": {},
   "outputs": [],
   "source": [
    "scaler = preprocessing.StandardScaler()\n",
    "scaler.fit(x_train)\n",
    "x_train = scaler.transform(x_train)\n",
    "x_test = scaler.transform(x_test)"
   ]
  },
  {
   "cell_type": "code",
   "execution_count": 12,
   "metadata": {},
   "outputs": [],
   "source": [
    "model = Sequential()"
   ]
  },
  {
   "cell_type": "code",
   "execution_count": 13,
   "metadata": {},
   "outputs": [
    {
     "data": {
      "text/plain": [
       "10"
      ]
     },
     "execution_count": 13,
     "metadata": {},
     "output_type": "execute_result"
    }
   ],
   "source": [
    "data.columns.shape[0]"
   ]
  },
  {
   "cell_type": "code",
   "execution_count": 14,
   "metadata": {},
   "outputs": [],
   "source": [
    "model.add(Dense(units = 4, input_dim = data.columns.shape[0], activation = 'relu'))"
   ]
  },
  {
   "cell_type": "code",
   "execution_count": 15,
   "metadata": {},
   "outputs": [],
   "source": [
    "model.add(Dense(units=3, activation='relu'))"
   ]
  },
  {
   "cell_type": "code",
   "execution_count": 16,
   "metadata": {},
   "outputs": [],
   "source": [
    "model.add(Dense(units = 1, activation='sigmoid'))"
   ]
  },
  {
   "cell_type": "code",
   "execution_count": 17,
   "metadata": {},
   "outputs": [],
   "source": [
    "model.compile(optimizer='adam', loss=losses.binary_crossentropy, metrics=['accuracy'])"
   ]
  },
  {
   "cell_type": "code",
   "execution_count": 18,
   "metadata": {},
   "outputs": [
    {
     "name": "stdout",
     "output_type": "stream",
     "text": [
      "_________________________________________________________________\n",
      "Layer (type)                 Output Shape              Param #   \n",
      "=================================================================\n",
      "dense_1 (Dense)              (None, 4)                 44        \n",
      "_________________________________________________________________\n",
      "dense_2 (Dense)              (None, 3)                 15        \n",
      "_________________________________________________________________\n",
      "dense_3 (Dense)              (None, 1)                 4         \n",
      "=================================================================\n",
      "Total params: 63\n",
      "Trainable params: 63\n",
      "Non-trainable params: 0\n",
      "_________________________________________________________________\n"
     ]
    }
   ],
   "source": [
    "model.summary()"
   ]
  },
  {
   "cell_type": "code",
   "execution_count": 19,
   "metadata": {},
   "outputs": [
    {
     "name": "stdout",
     "output_type": "stream",
     "text": [
      "Train on 7789 samples, validate on 1948 samples\n",
      "Epoch 1/100\n",
      "7789/7789 [==============================] - 1s 184us/step - loss: 0.6073 - acc: 0.8896 - val_loss: 0.5128 - val_acc: 0.9322\n",
      "Epoch 2/100\n",
      "7789/7789 [==============================] - 1s 117us/step - loss: 0.4444 - acc: 0.9466 - val_loss: 0.3866 - val_acc: 0.9497\n",
      "Epoch 3/100\n",
      "7789/7789 [==============================] - 1s 120us/step - loss: 0.3416 - acc: 0.9570 - val_loss: 0.3065 - val_acc: 0.9553\n",
      "Epoch 4/100\n",
      "7789/7789 [==============================] - 1s 121us/step - loss: 0.2737 - acc: 0.9625 - val_loss: 0.2501 - val_acc: 0.9625\n",
      "Epoch 5/100\n",
      "7789/7789 [==============================] - 1s 122us/step - loss: 0.2251 - acc: 0.9675 - val_loss: 0.2083 - val_acc: 0.9625\n",
      "Epoch 6/100\n",
      "7789/7789 [==============================] - 1s 118us/step - loss: 0.1908 - acc: 0.9697 - val_loss: 0.1786 - val_acc: 0.9677\n",
      "Epoch 7/100\n",
      "7789/7789 [==============================] - 1s 117us/step - loss: 0.1662 - acc: 0.9716 - val_loss: 0.1573 - val_acc: 0.9677\n",
      "Epoch 8/100\n",
      "7789/7789 [==============================] - 1s 121us/step - loss: 0.1478 - acc: 0.9719 - val_loss: 0.1417 - val_acc: 0.9682\n",
      "Epoch 9/100\n",
      "7789/7789 [==============================] - 1s 119us/step - loss: 0.1338 - acc: 0.9734 - val_loss: 0.1308 - val_acc: 0.9656\n",
      "Epoch 10/100\n",
      "7789/7789 [==============================] - 1s 124us/step - loss: 0.1226 - acc: 0.9741 - val_loss: 0.1207 - val_acc: 0.9666\n",
      "Epoch 11/100\n",
      "7789/7789 [==============================] - 1s 123us/step - loss: 0.1138 - acc: 0.9739 - val_loss: 0.1131 - val_acc: 0.9682\n",
      "Epoch 12/100\n",
      "7789/7789 [==============================] - 1s 121us/step - loss: 0.1074 - acc: 0.9741 - val_loss: 0.1076 - val_acc: 0.9713\n",
      "Epoch 13/100\n",
      "7789/7789 [==============================] - 1s 112us/step - loss: 0.1022 - acc: 0.9756 - val_loss: 0.1041 - val_acc: 0.9702\n",
      "Epoch 14/100\n",
      "7789/7789 [==============================] - 1s 112us/step - loss: 0.0979 - acc: 0.9748 - val_loss: 0.1006 - val_acc: 0.9702\n",
      "Epoch 15/100\n",
      "7789/7789 [==============================] - 1s 113us/step - loss: 0.0948 - acc: 0.9746 - val_loss: 0.0990 - val_acc: 0.9738\n",
      "Epoch 16/100\n",
      "7789/7789 [==============================] - 1s 119us/step - loss: 0.0922 - acc: 0.9756 - val_loss: 0.0972 - val_acc: 0.9707\n",
      "Epoch 17/100\n",
      "7789/7789 [==============================] - 1s 113us/step - loss: 0.0898 - acc: 0.9757 - val_loss: 0.0963 - val_acc: 0.9723\n",
      "Epoch 18/100\n",
      "7789/7789 [==============================] - 1s 120us/step - loss: 0.0879 - acc: 0.9759 - val_loss: 0.0959 - val_acc: 0.9692\n",
      "Epoch 19/100\n",
      "7789/7789 [==============================] - 1s 115us/step - loss: 0.0863 - acc: 0.9747 - val_loss: 0.0928 - val_acc: 0.9728\n",
      "Epoch 20/100\n",
      "7789/7789 [==============================] - 1s 117us/step - loss: 0.0853 - acc: 0.9764 - val_loss: 0.0925 - val_acc: 0.9728\n",
      "Epoch 21/100\n",
      "7789/7789 [==============================] - 1s 114us/step - loss: 0.0845 - acc: 0.9751 - val_loss: 0.0907 - val_acc: 0.9738\n",
      "Epoch 22/100\n",
      "7789/7789 [==============================] - 1s 114us/step - loss: 0.0830 - acc: 0.9765 - val_loss: 0.0916 - val_acc: 0.9718\n",
      "Epoch 23/100\n",
      "7789/7789 [==============================] - 1s 113us/step - loss: 0.0823 - acc: 0.9766 - val_loss: 0.0912 - val_acc: 0.9713\n",
      "Epoch 24/100\n",
      "7789/7789 [==============================] - 1s 111us/step - loss: 0.0822 - acc: 0.9764 - val_loss: 0.0897 - val_acc: 0.9728\n",
      "Epoch 25/100\n",
      "7789/7789 [==============================] - 1s 118us/step - loss: 0.0813 - acc: 0.9761 - val_loss: 0.0882 - val_acc: 0.9738\n",
      "Epoch 26/100\n",
      "7789/7789 [==============================] - 1s 118us/step - loss: 0.0805 - acc: 0.9760 - val_loss: 0.0872 - val_acc: 0.9764\n",
      "Epoch 27/100\n",
      "7789/7789 [==============================] - 1s 113us/step - loss: 0.0799 - acc: 0.9760 - val_loss: 0.0871 - val_acc: 0.9764\n",
      "Epoch 28/100\n",
      "7789/7789 [==============================] - 1s 141us/step - loss: 0.0795 - acc: 0.9765 - val_loss: 0.0870 - val_acc: 0.9748\n",
      "Epoch 29/100\n",
      "7789/7789 [==============================] - 1s 133us/step - loss: 0.0792 - acc: 0.9753 - val_loss: 0.0871 - val_acc: 0.9738\n",
      "Epoch 30/100\n",
      "7789/7789 [==============================] - 1s 126us/step - loss: 0.0789 - acc: 0.9765 - val_loss: 0.0876 - val_acc: 0.9733\n",
      "Epoch 31/100\n",
      "7789/7789 [==============================] - 1s 120us/step - loss: 0.0788 - acc: 0.9756 - val_loss: 0.0858 - val_acc: 0.9754\n",
      "Epoch 32/100\n",
      "7789/7789 [==============================] - 1s 120us/step - loss: 0.0785 - acc: 0.9765 - val_loss: 0.0858 - val_acc: 0.9748\n",
      "Epoch 33/100\n",
      "7789/7789 [==============================] - 1s 114us/step - loss: 0.0780 - acc: 0.9761 - val_loss: 0.0860 - val_acc: 0.9754\n",
      "Epoch 34/100\n",
      "7789/7789 [==============================] - 1s 108us/step - loss: 0.0784 - acc: 0.9765 - val_loss: 0.0862 - val_acc: 0.9733\n",
      "Epoch 35/100\n",
      "7789/7789 [==============================] - 1s 113us/step - loss: 0.0774 - acc: 0.9764 - val_loss: 0.0866 - val_acc: 0.9728\n",
      "Epoch 36/100\n",
      "7789/7789 [==============================] - 1s 108us/step - loss: 0.0775 - acc: 0.9761 - val_loss: 0.0874 - val_acc: 0.9748\n",
      "Epoch 37/100\n",
      "7789/7789 [==============================] - 1s 109us/step - loss: 0.0773 - acc: 0.9773 - val_loss: 0.0852 - val_acc: 0.9743\n",
      "Epoch 38/100\n",
      "7789/7789 [==============================] - 1s 106us/step - loss: 0.0772 - acc: 0.9761 - val_loss: 0.0869 - val_acc: 0.9743\n",
      "Epoch 39/100\n",
      "7789/7789 [==============================] - 1s 106us/step - loss: 0.0767 - acc: 0.9768 - val_loss: 0.0858 - val_acc: 0.9738\n",
      "Epoch 40/100\n",
      "7789/7789 [==============================] - 1s 109us/step - loss: 0.0767 - acc: 0.9760 - val_loss: 0.0844 - val_acc: 0.9748\n",
      "Epoch 41/100\n",
      "7789/7789 [==============================] - 1s 110us/step - loss: 0.0764 - acc: 0.9766 - val_loss: 0.0845 - val_acc: 0.9748\n",
      "Epoch 42/100\n",
      "7789/7789 [==============================] - 1s 106us/step - loss: 0.0764 - acc: 0.9770 - val_loss: 0.0840 - val_acc: 0.9774\n",
      "Epoch 43/100\n",
      "7789/7789 [==============================] - 1s 108us/step - loss: 0.0764 - acc: 0.9773 - val_loss: 0.0855 - val_acc: 0.9748\n",
      "Epoch 44/100\n",
      "7789/7789 [==============================] - 1s 104us/step - loss: 0.0758 - acc: 0.9761 - val_loss: 0.0848 - val_acc: 0.9759\n",
      "Epoch 45/100\n",
      "7789/7789 [==============================] - 1s 117us/step - loss: 0.0759 - acc: 0.9771 - val_loss: 0.0839 - val_acc: 0.9764\n",
      "Epoch 46/100\n",
      "7789/7789 [==============================] - 1s 118us/step - loss: 0.0757 - acc: 0.9777 - val_loss: 0.0834 - val_acc: 0.9759\n",
      "Epoch 47/100\n",
      "7789/7789 [==============================] - 1s 122us/step - loss: 0.0752 - acc: 0.9777 - val_loss: 0.0828 - val_acc: 0.9764\n",
      "Epoch 48/100\n",
      "7789/7789 [==============================] - 1s 114us/step - loss: 0.0753 - acc: 0.9780 - val_loss: 0.0839 - val_acc: 0.9754\n",
      "Epoch 49/100\n",
      "7789/7789 [==============================] - 1s 108us/step - loss: 0.0747 - acc: 0.9779 - val_loss: 0.0835 - val_acc: 0.9754\n",
      "Epoch 50/100\n",
      "7789/7789 [==============================] - 1s 113us/step - loss: 0.0748 - acc: 0.9778 - val_loss: 0.0831 - val_acc: 0.9748\n",
      "Epoch 51/100\n",
      "7789/7789 [==============================] - 1s 105us/step - loss: 0.0741 - acc: 0.9775 - val_loss: 0.0825 - val_acc: 0.9769\n",
      "Epoch 52/100\n",
      "7789/7789 [==============================] - 1s 103us/step - loss: 0.0740 - acc: 0.9778 - val_loss: 0.0823 - val_acc: 0.9754\n",
      "Epoch 53/100\n",
      "7789/7789 [==============================] - 1s 106us/step - loss: 0.0738 - acc: 0.9778 - val_loss: 0.0825 - val_acc: 0.9764\n",
      "Epoch 54/100\n",
      "7789/7789 [==============================] - 1s 104us/step - loss: 0.0734 - acc: 0.9788 - val_loss: 0.0833 - val_acc: 0.9754\n",
      "Epoch 55/100\n",
      "7789/7789 [==============================] - 1s 120us/step - loss: 0.0737 - acc: 0.9779 - val_loss: 0.0826 - val_acc: 0.9754\n",
      "Epoch 56/100\n",
      "7789/7789 [==============================] - 1s 113us/step - loss: 0.0736 - acc: 0.9783 - val_loss: 0.0830 - val_acc: 0.9759\n",
      "Epoch 57/100\n",
      "7789/7789 [==============================] - 1s 99us/step - loss: 0.0736 - acc: 0.9778 - val_loss: 0.0826 - val_acc: 0.9754\n",
      "Epoch 58/100\n",
      "7789/7789 [==============================] - 1s 99us/step - loss: 0.0735 - acc: 0.9787 - val_loss: 0.0834 - val_acc: 0.9754\n",
      "Epoch 59/100\n",
      "7789/7789 [==============================] - 1s 104us/step - loss: 0.0733 - acc: 0.9786 - val_loss: 0.0823 - val_acc: 0.9759\n",
      "Epoch 60/100\n"
     ]
    },
    {
     "name": "stdout",
     "output_type": "stream",
     "text": [
      "7789/7789 [==============================] - 1s 116us/step - loss: 0.0734 - acc: 0.9789 - val_loss: 0.0829 - val_acc: 0.9743\n",
      "Epoch 61/100\n",
      "7789/7789 [==============================] - 1s 113us/step - loss: 0.0729 - acc: 0.9788 - val_loss: 0.0838 - val_acc: 0.9748\n",
      "Epoch 62/100\n",
      "7789/7789 [==============================] - 1s 121us/step - loss: 0.0725 - acc: 0.9789 - val_loss: 0.0858 - val_acc: 0.9743\n",
      "Epoch 63/100\n",
      "7789/7789 [==============================] - 1s 122us/step - loss: 0.0731 - acc: 0.9787 - val_loss: 0.0838 - val_acc: 0.9748\n",
      "Epoch 64/100\n",
      "7789/7789 [==============================] - 1s 123us/step - loss: 0.0726 - acc: 0.9777 - val_loss: 0.0850 - val_acc: 0.9748\n",
      "Epoch 65/100\n",
      "7789/7789 [==============================] - 1s 126us/step - loss: 0.0721 - acc: 0.9783 - val_loss: 0.0835 - val_acc: 0.9754\n",
      "Epoch 66/100\n",
      "7789/7789 [==============================] - 1s 123us/step - loss: 0.0725 - acc: 0.9783 - val_loss: 0.0840 - val_acc: 0.9743\n",
      "Epoch 67/100\n",
      "7789/7789 [==============================] - 1s 115us/step - loss: 0.0722 - acc: 0.9783 - val_loss: 0.0858 - val_acc: 0.9748\n",
      "Epoch 68/100\n",
      "7789/7789 [==============================] - 1s 115us/step - loss: 0.0717 - acc: 0.9792 - val_loss: 0.0869 - val_acc: 0.9743\n",
      "Epoch 69/100\n",
      "7789/7789 [==============================] - 1s 117us/step - loss: 0.0718 - acc: 0.9786 - val_loss: 0.0845 - val_acc: 0.9743\n",
      "Epoch 70/100\n",
      "7789/7789 [==============================] - 1s 118us/step - loss: 0.0716 - acc: 0.9792 - val_loss: 0.0858 - val_acc: 0.9748\n",
      "Epoch 71/100\n",
      "7789/7789 [==============================] - 1s 113us/step - loss: 0.0715 - acc: 0.9780 - val_loss: 0.0873 - val_acc: 0.9743\n",
      "Epoch 72/100\n",
      "7789/7789 [==============================] - 1s 112us/step - loss: 0.0714 - acc: 0.9791 - val_loss: 0.0856 - val_acc: 0.9748\n",
      "Epoch 73/100\n",
      "7789/7789 [==============================] - 1s 115us/step - loss: 0.0713 - acc: 0.9782 - val_loss: 0.0848 - val_acc: 0.9748\n",
      "Epoch 74/100\n",
      "7789/7789 [==============================] - 1s 114us/step - loss: 0.0713 - acc: 0.9804 - val_loss: 0.0845 - val_acc: 0.9743\n",
      "Epoch 75/100\n",
      "7789/7789 [==============================] - 1s 115us/step - loss: 0.0706 - acc: 0.9791 - val_loss: 0.0862 - val_acc: 0.9754\n",
      "Epoch 76/100\n",
      "7789/7789 [==============================] - 1s 118us/step - loss: 0.0708 - acc: 0.9795 - val_loss: 0.0839 - val_acc: 0.9754\n",
      "Epoch 77/100\n",
      "7789/7789 [==============================] - 1s 118us/step - loss: 0.0703 - acc: 0.9791 - val_loss: 0.0836 - val_acc: 0.9748\n",
      "Epoch 78/100\n",
      "7789/7789 [==============================] - 1s 114us/step - loss: 0.0708 - acc: 0.9797 - val_loss: 0.0827 - val_acc: 0.9754\n",
      "Epoch 79/100\n",
      "7789/7789 [==============================] - 1s 122us/step - loss: 0.0705 - acc: 0.9796 - val_loss: 0.0835 - val_acc: 0.9748\n",
      "Epoch 80/100\n",
      "7789/7789 [==============================] - 1s 114us/step - loss: 0.0705 - acc: 0.9787 - val_loss: 0.0828 - val_acc: 0.9754\n",
      "Epoch 81/100\n",
      "7789/7789 [==============================] - 1s 112us/step - loss: 0.0703 - acc: 0.9798 - val_loss: 0.0831 - val_acc: 0.9748\n",
      "Epoch 82/100\n",
      "7789/7789 [==============================] - 1s 132us/step - loss: 0.0699 - acc: 0.9802 - val_loss: 0.0836 - val_acc: 0.9748\n",
      "Epoch 83/100\n",
      "7789/7789 [==============================] - 1s 137us/step - loss: 0.0703 - acc: 0.9789 - val_loss: 0.0837 - val_acc: 0.9748\n",
      "Epoch 84/100\n",
      "7789/7789 [==============================] - 1s 128us/step - loss: 0.0701 - acc: 0.9788 - val_loss: 0.0844 - val_acc: 0.9754\n",
      "Epoch 85/100\n",
      "7789/7789 [==============================] - 1s 115us/step - loss: 0.0701 - acc: 0.9800 - val_loss: 0.0853 - val_acc: 0.9743\n",
      "Epoch 86/100\n",
      "7789/7789 [==============================] - 1s 118us/step - loss: 0.0701 - acc: 0.9798 - val_loss: 0.0847 - val_acc: 0.9748\n",
      "Epoch 87/100\n",
      "7789/7789 [==============================] - 1s 121us/step - loss: 0.0702 - acc: 0.9788 - val_loss: 0.0841 - val_acc: 0.9743\n",
      "Epoch 88/100\n",
      "7789/7789 [==============================] - 1s 127us/step - loss: 0.0699 - acc: 0.9791 - val_loss: 0.0823 - val_acc: 0.9759\n",
      "Epoch 89/100\n",
      "7789/7789 [==============================] - 1s 107us/step - loss: 0.0699 - acc: 0.9798 - val_loss: 0.0815 - val_acc: 0.9748\n",
      "Epoch 90/100\n",
      "7789/7789 [==============================] - 1s 109us/step - loss: 0.0699 - acc: 0.9798 - val_loss: 0.0839 - val_acc: 0.9748\n",
      "Epoch 91/100\n",
      "7789/7789 [==============================] - 1s 108us/step - loss: 0.0698 - acc: 0.9800 - val_loss: 0.0830 - val_acc: 0.9759\n",
      "Epoch 92/100\n",
      "7789/7789 [==============================] - 1s 105us/step - loss: 0.0698 - acc: 0.9796 - val_loss: 0.0826 - val_acc: 0.9754\n",
      "Epoch 93/100\n",
      "7789/7789 [==============================] - 1s 112us/step - loss: 0.0696 - acc: 0.9798 - val_loss: 0.0826 - val_acc: 0.9754\n",
      "Epoch 94/100\n",
      "7789/7789 [==============================] - 1s 105us/step - loss: 0.0692 - acc: 0.9795 - val_loss: 0.0820 - val_acc: 0.9764\n",
      "Epoch 95/100\n",
      "7789/7789 [==============================] - 1s 109us/step - loss: 0.0692 - acc: 0.9796 - val_loss: 0.0825 - val_acc: 0.9764\n",
      "Epoch 96/100\n",
      "7789/7789 [==============================] - 1s 106us/step - loss: 0.0696 - acc: 0.9804 - val_loss: 0.0812 - val_acc: 0.9754\n",
      "Epoch 97/100\n",
      "7789/7789 [==============================] - 1s 108us/step - loss: 0.0694 - acc: 0.9800 - val_loss: 0.0811 - val_acc: 0.9754\n",
      "Epoch 98/100\n",
      "7789/7789 [==============================] - 1s 112us/step - loss: 0.0695 - acc: 0.9792 - val_loss: 0.0812 - val_acc: 0.9754\n",
      "Epoch 99/100\n",
      "7789/7789 [==============================] - 1s 111us/step - loss: 0.0693 - acc: 0.9805 - val_loss: 0.0811 - val_acc: 0.9748\n",
      "Epoch 100/100\n",
      "7789/7789 [==============================] - 1s 118us/step - loss: 0.0692 - acc: 0.9791 - val_loss: 0.0805 - val_acc: 0.9774\n"
     ]
    }
   ],
   "source": [
    "history = model.fit(x_train, y_train, epochs= 100, batch_size=16, verbose=1, validation_split=0.2)"
   ]
  },
  {
   "cell_type": "code",
   "execution_count": 20,
   "metadata": {},
   "outputs": [],
   "source": [
    "epochs = history.epoch"
   ]
  },
  {
   "cell_type": "code",
   "execution_count": 21,
   "metadata": {},
   "outputs": [],
   "source": [
    "loss = history.history['loss']\n",
    "validation_loss = history.history['val_loss']"
   ]
  },
  {
   "cell_type": "code",
   "execution_count": 22,
   "metadata": {},
   "outputs": [
    {
     "data": {
      "text/plain": [
       "<matplotlib.legend.Legend at 0x137b28f16d8>"
      ]
     },
     "execution_count": 22,
     "metadata": {},
     "output_type": "execute_result"
    },
    {
     "data": {
      "image/png": "[encoded data removed]",
      "text/plain": [
       "<Figure size 432x288 with 1 Axes>"
      ]
     },
     "metadata": {},
     "output_type": "display_data"
    }
   ],
   "source": [
    "plt.xlabel('epochs')\n",
    "plt.ylabel('loss')\n",
    "plt.plot(epochs, loss, c='red', label='training')\n",
    "plt.plot(epochs, validation_loss, c='orange', label='validation')\n",
    "plt.legend(loc='best')"
   ]
  },
  {
   "cell_type": "code",
   "execution_count": 23,
   "metadata": {},
   "outputs": [],
   "source": [
    "acc = history.history['acc']\n",
    "validation_acc = history.history['val_acc']"
   ]
  },
  {
   "cell_type": "code",
   "execution_count": 24,
   "metadata": {},
   "outputs": [
    {
     "data": {
      "text/plain": [
       "<matplotlib.legend.Legend at 0x137b2996898>"
      ]
     },
     "execution_count": 24,
     "metadata": {},
     "output_type": "execute_result"
    },
    {
     "data": {
      "image/png": "[encoded data removed]",
      "text/plain": [
       "<Figure size 432x288 with 1 Axes>"
      ]
     },
     "metadata": {},
     "output_type": "display_data"
    }
   ],
   "source": [
    "plt.xlabel('epochs')\n",
    "plt.ylabel('acc')\n",
    "plt.plot(epochs, acc, c='red', label='training')\n",
    "plt.plot(epochs, validation_acc, c='orange', label='validation')\n",
    "plt.legend(loc='best')"
   ]
  },
  {
   "cell_type": "code",
   "execution_count": 25,
   "metadata": {},
   "outputs": [
    {
     "name": "stdout",
     "output_type": "stream",
     "text": [
      "4796/4796 [==============================] - 0s 27us/step\n",
      "Test loss: 0.07825165156824973, test accuracy: 0.9747706423012588\n"
     ]
    }
   ],
   "source": [
    "# evaluacija mreze\n",
    "test_loss, test_acc = model.evaluate(x_test, y_test)\n",
    "print (\"Test loss: {}, test accuracy: {}\".format(test_loss, test_acc))"
   ]
  },
  {
   "cell_type": "code",
   "execution_count": 26,
   "metadata": {},
   "outputs": [],
   "source": [
    "model = Sequential()\n",
    "model.add(Dense(units = 4, input_dim = data.columns.shape[0], activation = 'relu'))\n",
    "model.add(Dense(units=3, activation='relu'))\n",
    "model.add(Dense(units = 1, activation='sigmoid'))\n",
    "model.compile(optimizer='adam', loss=losses.binary_crossentropy, metrics=['accuracy'])"
   ]
  },
  {
   "cell_type": "code",
   "execution_count": null,
   "metadata": {},
   "outputs": [
    {
     "name": "stdout",
     "output_type": "stream",
     "text": [
      "Train on 7789 samples, validate on 1948 samples\n",
      "Epoch 1/30\n",
      "7789/7789 [==============================] - 2s 195us/step - loss: 0.5392 - acc: 0.7780 - val_loss: 0.2745 - val_acc: 0.9138\n",
      "Epoch 2/30\n",
      "7789/7789 [==============================] - 1s 121us/step - loss: 0.2021 - acc: 0.9330 - val_loss: 0.1805 - val_acc: 0.9374\n",
      "Epoch 3/30\n",
      "7789/7789 [==============================] - 1s 125us/step - loss: 0.1578 - acc: 0.9458 - val_loss: 0.1590 - val_acc: 0.9471\n",
      "Epoch 4/30\n",
      "7789/7789 [==============================] - 1s 128us/step - loss: 0.1424 - acc: 0.9504 - val_loss: 0.1466 - val_acc: 0.9517\n",
      "Epoch 5/30\n",
      "1024/7789 [==>...........................] - ETA: 1s - loss: 0.1133 - acc: 0.9668"
     ]
    }
   ],
   "source": [
    "history = model.fit(x_train, y_train, epochs= 30, batch_size=16, verbose=1, validation_split=0.2)"
   ]
  },
  {
   "cell_type": "code",
   "execution_count": 44,
   "metadata": {},
   "outputs": [
    {
     "name": "stdout",
     "output_type": "stream",
     "text": [
      "4796/4796 [==============================] - 0s 28us/step\n",
      "Test loss: 0.08617103425747062, test accuracy: 0.9745621351125938\n"
     ]
    }
   ],
   "source": [
    "# evaluacija mreze\n",
    "test_loss, test_acc = model.evaluate(x_test, y_test)\n",
    "print (\"Test loss: {}, test accuracy: {}\".format(test_loss, test_acc))"
   ]
  },
  {
   "cell_type": "code",
   "execution_count": 45,
   "metadata": {},
   "outputs": [
    {
     "ename": "TypeError",
     "evalue": "can't pickle _thread.RLock objects",
     "output_type": "error",
     "traceback": [
      "\u001b[1;31m---------------------------------------------------------------------------\u001b[0m",
      "\u001b[1;31mTypeError\u001b[0m                                 Traceback (most recent call last)",
      "\u001b[1;32m<ipython-input-45-4ca95deb65ad>\u001b[0m in \u001b[0;36m<module>\u001b[1;34m()\u001b[0m\n\u001b[0;32m      1\u001b[0m \u001b[1;32mimport\u001b[0m \u001b[0mpickle\u001b[0m\u001b[1;33m\u001b[0m\u001b[0m\n\u001b[0;32m      2\u001b[0m \u001b[0mfilename\u001b[0m \u001b[1;33m=\u001b[0m \u001b[1;34m'NN_model.sav'\u001b[0m\u001b[1;33m\u001b[0m\u001b[0m\n\u001b[1;32m----> 3\u001b[1;33m \u001b[0mpickle\u001b[0m\u001b[1;33m.\u001b[0m\u001b[0mdump\u001b[0m\u001b[1;33m(\u001b[0m\u001b[0mmodel\u001b[0m\u001b[1;33m,\u001b[0m \u001b[0mopen\u001b[0m\u001b[1;33m(\u001b[0m\u001b[0mfilename\u001b[0m\u001b[1;33m,\u001b[0m \u001b[1;34m'wb'\u001b[0m\u001b[1;33m)\u001b[0m\u001b[1;33m)\u001b[0m\u001b[1;33m\u001b[0m\u001b[0m\n\u001b[0m",
      "\u001b[1;31mTypeError\u001b[0m: can't pickle _thread.RLock objects"
     ]
    }
   ],
   "source": [
    "import pickle\n",
    "filename = 'NN_model.sav'\n",
    "pickle.dump(model, open(filename, 'wb'))"
   ]
  }
 ],
 "metadata": {
  "kernelspec": {
   "display_name": "Python 3",
   "language": "python",
   "name": "python3"
  },
  "language_info": {
   "codemirror_mode": {
    "name": "ipython",
    "version": 3
   },
   "file_extension": ".py",
   "mimetype": "text/x-python",
   "name": "python",
   "nbconvert_exporter": "python",
   "pygments_lexer": "ipython3",
   "version": "3.6.5"
  }
 },
 "nbformat": 4,
 "nbformat_minor": 2
}
